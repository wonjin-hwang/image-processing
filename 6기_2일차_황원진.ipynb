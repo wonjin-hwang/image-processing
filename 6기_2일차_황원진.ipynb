{
  "nbformat": 4,
  "nbformat_minor": 0,
  "metadata": {
    "colab": {
      "provenance": []
    },
    "kernelspec": {
      "name": "python3",
      "display_name": "Python 3"
    },
    "language_info": {
      "name": "python"
    }
  },
  "cells": [
    {
      "cell_type": "code",
      "execution_count": 1,
      "metadata": {
        "id": "Oku9qW3LKRaY"
      },
      "outputs": [],
      "source": [
        "import torch\n",
        "import torch.nn as nn #파이토치에있는 딥러닝레이어만들때 쓰는모듈\n",
        "import torch.nn.functional as F\n",
        "import torch.optim as optim\n",
        "from torchvision import datasets,transforms\n",
        "import matplotlib.pyplot as plt\n"
      ]
    },
    {
      "cell_type": "code",
      "source": [
        "class myCNN(nn.Module):\n",
        "    def __init__(self):\n",
        "        super(myCNN, self).__init__()\n",
        "        self.conv1 = nn.Conv2d(1, 32, kernel_size=5, padding=2)  # 컨볼루션을 통해 32채널로\n",
        "        #nn.Conv2d:파이토치의 컨볼루션 레이어를 생성하는 클래스\n",
        "        #(입력채널,출력채널,커널크기,패딩크기)\n",
        "        self.conv2 = nn.Conv2d(32, 64, kernel_size=5, padding=2)  # 컨볼루션을 통해 64채널로\n",
        "        self.conv3 = nn.Conv2d(64, 128, kernel_size=5, padding=2) #컨볼루션을 통해 128채널로\n",
        "        self.fc1 = nn.Linear(128 * 3 * 3, 128)\n",
        "        #nn.Linear:파이토치의 완전연결 정의레이어를 생성하는 클래스:3차원을 1차원으로 펼쳐서 출력\n",
        "        #(입력특성수:{128*3*3:앞선 컨볼루션 레이어에서 생성된 특징,직접계산해야함} 출력특성수)\n",
        "        self.fc2 = nn.Linear(128, 10)\n",
        "        #128을 10으로 변환시킨다. 따라서 1*1*10으로 만들어서 최종 분류확률을 가지는 데이터를 만든다.\n",
        "\n",
        "    def forward(self, x):\n",
        "        x = F.relu(F.max_pool2d(self.conv1(x), 2))\n",
        "        #F.relu():맥스풀링을 통과한 결과에 활성화함수 렐루를 적용시켜줌,렐루는 비선형성+음수값을 0으로 만듬\n",
        "        #self.conv1(x):입력데이터 x에 첫번째 컨볼루션 레이어 적용 된놈\n",
        "        #F.max_pool2d:첫번째 컨볼루션 레이어 통과한 놈한테 맥스풀링 갈긴다. 2*2윈도우 사용한다.\n",
        "        x = F.relu(F.max_pool2d(self.conv2(x), 2))\n",
        "        x = F.relu(F.max_pool2d(self.conv3(x), 2))\n",
        "        x = x.view(-1, 128 * 3 * 3)#평탄화를 하는것을 정의, 128*3*3 직접 계산해야함\n",
        "        x = F.relu(self.fc1(x))#\n",
        "        #입력데이터에 첫번째 완전연결레이어를 적용하고 그걸 렐루에 넣어\n",
        "        x = self.fc2(x)\n",
        "        return F.log_softmax(x, dim=1)\n",
        "        #F.log_softmax:출력을 로그확률로 변환해서 손실함수에 적용"
      ],
      "metadata": {
        "id": "zJAX7H9YKUhj"
      },
      "execution_count": 2,
      "outputs": []
    },
    {
      "cell_type": "markdown",
      "source": [
        "# FashionMNIST로 실행"
      ],
      "metadata": {
        "id": "fGq6zlQqs7BH"
      }
    },
    {
      "cell_type": "code",
      "source": [
        "transform = transforms.Compose([\n",
        "    transforms.ToTensor(),#텐서로 변환시켜\n",
        "    transforms.Normalize((0.286,),(0.353,))#정규화를 시\n",
        "    #정규화를해야함.표준편차랑 평균직접넣어줘\n",
        "\n",
        "])\n",
        "train_dataset = datasets.FashionMNIST('./data',train=True,download=True,transform=transform)\n",
        "test_dataset = datasets.FashionMNIST('./data',train=False,transform=transform)\n",
        "\n",
        "train_loader = torch.utils.data.DataLoader(train_dataset,batch_size=64,shuffle=True)\n",
        "#DataLoader를 사용해서 데이터를 배치 단위로 로드한다. 데이터를 섞는다\n",
        "test_loader = torch.utils.data.DataLoader(test_dataset,batch_size=1000,shuffle=False)"
      ],
      "metadata": {
        "id": "5zGVydKiKUjr"
      },
      "execution_count": 3,
      "outputs": []
    },
    {
      "cell_type": "code",
      "source": [
        "\n",
        "image111, label111 = train_dataset[0]"
      ],
      "metadata": {
        "id": "I_5TGNS2ianG"
      },
      "execution_count": 14,
      "outputs": []
    },
    {
      "cell_type": "code",
      "source": [
        "label111"
      ],
      "metadata": {
        "colab": {
          "base_uri": "https://localhost:8080/"
        },
        "id": "C0PtZfrJiz6k",
        "outputId": "53c00646-c76e-443a-87f0-0c92554f1e8e"
      },
      "execution_count": 16,
      "outputs": [
        {
          "output_type": "execute_result",
          "data": {
            "text/plain": [
              "9"
            ]
          },
          "metadata": {},
          "execution_count": 16
        }
      ]
    },
    {
      "cell_type": "code",
      "source": [
        "plt.imshow(next(iter(train_loader))[0][0][0],cmap='gray')"
      ],
      "metadata": {
        "colab": {
          "base_uri": "https://localhost:8080/",
          "height": 448
        },
        "id": "APcESyrHPQq7",
        "outputId": "5bae7d89-4991-4cfc-83f5-a15fa30bff6d"
      },
      "execution_count": 21,
      "outputs": [
        {
          "output_type": "execute_result",
          "data": {
            "text/plain": [
              "<matplotlib.image.AxesImage at 0x7d6ab90761a0>"
            ]
          },
          "metadata": {},
          "execution_count": 21
        },
        {
          "output_type": "display_data",
          "data": {
            "text/plain": [
              "<Figure size 640x480 with 1 Axes>"
            ],
            "image/png": "[encoded data removed]"
          },
          "metadata": {}
        }
      ]
    },
    {
      "cell_type": "code",
      "source": [
        "model = myCNN()#앞에서 쓴 myCNN을 사용해서 초기화\n",
        "criterion = nn.CrossEntropyLoss()#손실함수 초기화\n",
        "optimizer = optim.SGD(model.parameters(),lr=0.01,momentum=0.5)#sgd이용해서 최적화\n",
        "#model.parameters():모델의 가중치 및 편향이 여기에 해당한다."
      ],
      "metadata": {
        "id": "N59TlHy5KUl6"
      },
      "execution_count": 22,
      "outputs": []
    },
    {
      "cell_type": "code",
      "source": [
        "train_losses=[]\n",
        "test_losses=[]\n",
        "test_accuracies=[]\n"
      ],
      "metadata": {
        "id": "HY1Nt9uOKUoT"
      },
      "execution_count": 11,
      "outputs": []
    },
    {
      "cell_type": "code",
      "source": [
        "def train(model,train_loader,optimizer,epoch):\n",
        "    model.train()#모델을 트레인모드로 활성화시킨다.\n",
        "    train_loss=0#훈련손실을 저장하기 위한 변수를 초기화\n",
        "    for data,target in train_loader:\n",
        "        optimizer.zero_grad()#옵티마이저의 그래디언트 초기화\n",
        "        output = model(data)#모델에 입력데이터 전달\n",
        "        loss = criterion(output,target)#출력과 정답레이블을 사용하여 손실 계산\n",
        "        train_loss +=loss.item()#현재 손실을 전체 손실에 더해\n",
        "        loss.backward()#역전파해서 파라미터에대한 그래디언트계산\n",
        "        optimizer.step()#업데이트\n",
        "\n",
        "    #평균훈련손실계산\n",
        "    train_loss/=len(train_loader)#전체훈련 나누기 배치수\n",
        "    train_losses.append(train_loss)#저장\n",
        "    print(f'Epoch{epoch},Training loss:{train_loss:.4f}')"
      ],
      "metadata": {
        "id": "pmKlAhm9KUtC"
      },
      "execution_count": 7,
      "outputs": []
    },
    {
      "cell_type": "code",
      "source": [
        "def test(model,test_loader):\n",
        "    model.eval()#모델을 평가모델로 설정\n",
        "    test_loss=0#초기화\n",
        "    correct=0#예측수 초기화\n",
        "    with torch.no_grad():\n",
        "        for data,target in test_loader:\n",
        "            output = model(data)#입력데이터 모델에 넣어서 아웃풋으로\n",
        "            test_loss +=criterion(output,target).item()#출력과 정답레이블 사용해서 손실계산\n",
        "            pred = output.argmax(dim=1,keepdim=True)#최대 확률은 뭘까\n",
        "            correct += pred.eq(target.view_as(pred)).sum().item()#예측된 클래스와 정답 레이블 비교하고 누적\n",
        "    test_loss/=len(test_loader)#평균 테스트 손실\n",
        "    accuracy=100.* correct/len(test_loader.dataset)#정확도\n",
        "    test_losses.append(test_loss)#저장\n",
        "    test_accuracies.append(accuracy)#저장\n",
        "    print(f'Test loss:{test_loss:.4f},Accuracy:{accuracy:.2f}%')#프린"
      ],
      "metadata": {
        "id": "feRP-uQ7KUvi"
      },
      "execution_count": 8,
      "outputs": []
    },
    {
      "cell_type": "code",
      "source": [
        "for epoch in range(1,11):\n",
        "    train(model,train_loader,optimizer,epoch)\n",
        "    test(model,test_loader)\n",
        "    print(f\"학습 {epoch} 완료\")"
      ],
      "metadata": {
        "colab": {
          "base_uri": "https://localhost:8080/"
        },
        "id": "I1tDWNbyKUyC",
        "outputId": "4f01a6f4-f73e-46bd-9893-6d56fd5c836e"
      },
      "execution_count": 9,
      "outputs": [
        {
          "output_type": "stream",
          "name": "stdout",
          "text": [
            "Epoch1,Training loss:0.8303\n",
            "Test loss:0.5507,Accuracy:79.57%\n",
            "학습 1 완료\n",
            "Epoch2,Training loss:0.4552\n",
            "Test loss:0.4455,Accuracy:83.65%\n",
            "학습 2 완료\n",
            "Epoch3,Training loss:0.3702\n",
            "Test loss:0.3702,Accuracy:86.42%\n",
            "학습 3 완료\n",
            "Epoch4,Training loss:0.3292\n",
            "Test loss:0.3419,Accuracy:87.35%\n",
            "학습 4 완료\n",
            "Epoch5,Training loss:0.2998\n",
            "Test loss:0.3296,Accuracy:87.86%\n",
            "학습 5 완료\n",
            "Epoch6,Training loss:0.2791\n",
            "Test loss:0.3264,Accuracy:88.17%\n",
            "학습 6 완료\n",
            "Epoch7,Training loss:0.2623\n",
            "Test loss:0.2925,Accuracy:89.32%\n",
            "학습 7 완료\n",
            "Epoch8,Training loss:0.2474\n",
            "Test loss:0.2859,Accuracy:89.60%\n",
            "학습 8 완료\n",
            "Epoch9,Training loss:0.2344\n",
            "Test loss:0.2846,Accuracy:89.71%\n",
            "학습 9 완료\n",
            "Epoch10,Training loss:0.2220\n",
            "Test loss:0.2655,Accuracy:90.20%\n",
            "학습 10 완료\n"
          ]
        }
      ]
    },
    {
      "cell_type": "code",
      "source": [
        "fig,axs = plt.subplots(2,1,figsize=(10,10))\n",
        "axs[0].plot(train_losses,label=\"training Loss\")\n",
        "axs[0].plot(test_losses,label=\"test loss\")\n",
        "axs[0].set_xlabel(\"Epoch\")\n",
        "axs[0].set_ylabel(\"loss\")\n",
        "axs[0].legend()\n",
        "axs[0].set_title(\"training and testloss\")\n",
        "\n",
        "axs[1].plot(test_accuracies,label = \"test accuracy\",color = \"orange\")\n",
        "axs[1].set_xlabel(\"epoch\")\n",
        "axs[1].set_ylabel(\"accuracy % \")\n",
        "axs[1].legend()\n",
        "axs[1].set_title(\"Test accuracy\")\n",
        "\n",
        "plt.tight_layout()\n",
        "plt.show()\n",
        "\n",
        "#학습 2번했을때가 제일 차이가 적네\n",
        "#정확도는 점점 높아지네"
      ],
      "metadata": {
        "colab": {
          "base_uri": "https://localhost:8080/",
          "height": 852
        },
        "id": "3OTFhTOmKU0c",
        "outputId": "a2b630c5-922c-4d71-eefc-022a7f6bb6e5"
      },
      "execution_count": 10,
      "outputs": [
        {
          "output_type": "display_data",
          "data": {
            "text/plain": [
              "<Figure size 1000x1000 with 2 Axes>"
            ],
            "image/png": "[encoded data removed]"
          },
          "metadata": {}
        }
      ]
    },
    {
      "cell_type": "code",
      "source": [
        "# def calculate_mean_std(loader):\n",
        "#     mean = 0.\n",
        "#     std = 0.\n",
        "#     total_images_count = 0\n",
        "#     for images, _ in loader:\n",
        "#         batch_samples = images.size(0)  # 배치 크기\n",
        "#         images = images.view(batch_samples, images.size(1), -1)\n",
        "#         mean += images.mean(2).sum(0)\n",
        "#         std += images.std(2).sum(0)\n",
        "#         total_images_count += batch_samples\n",
        "\n",
        "#     mean /= total_images_count\n",
        "#     std /= total_images_count\n",
        "\n",
        "#     return mean, std"
      ],
      "metadata": {
        "id": "GshIh1oFKU2z"
      },
      "execution_count": 12,
      "outputs": []
    },
    {
      "cell_type": "code",
      "source": [
        "calculate_mean_std(train_loader)"
      ],
      "metadata": {
        "colab": {
          "base_uri": "https://localhost:8080/"
        },
        "id": "rLDTXbtdKU5K",
        "outputId": "de9267d2-2406-4eca-8920-9309e9dc274b"
      },
      "execution_count": 14,
      "outputs": [
        {
          "output_type": "execute_result",
          "data": {
            "text/plain": [
              "(tensor([0.0001]), tensor([0.9078]))"
            ]
          },
          "metadata": {},
          "execution_count": 14
        }
      ]
    },
    {
      "cell_type": "code",
      "source": [
        "calculate_mean_std(test_loader)"
      ],
      "metadata": {
        "colab": {
          "base_uri": "https://localhost:8080/"
        },
        "id": "gItTf7P9KU8L",
        "outputId": "fe5032a2-b868-4398-f359-d4c919728330"
      },
      "execution_count": 15,
      "outputs": [
        {
          "output_type": "execute_result",
          "data": {
            "text/plain": [
              "(tensor([0.0024]), tensor([0.9067]))"
            ]
          },
          "metadata": {},
          "execution_count": 15
        }
      ]
    },
    {
      "cell_type": "code",
      "source": [
        "#정확한 파라미터를 알고싶으면 사전학습모델을 갖고 놀자"
      ],
      "metadata": {
        "id": "jGc2D-hjKU-r"
      },
      "execution_count": null,
      "outputs": []
    },
    {
      "cell_type": "code",
      "source": [],
      "metadata": {
        "id": "5UQGOR5fKVBj"
      },
      "execution_count": null,
      "outputs": []
    },
    {
      "cell_type": "code",
      "source": [],
      "metadata": {
        "id": "6T0EvaBSKVEa"
      },
      "execution_count": null,
      "outputs": []
    },
    {
      "cell_type": "code",
      "source": [],
      "metadata": {
        "id": "t8RKewUCKVH8"
      },
      "execution_count": null,
      "outputs": []
    },
    {
      "cell_type": "code",
      "source": [],
      "metadata": {
        "id": "GVnudoSNKVKM"
      },
      "execution_count": null,
      "outputs": []
    },
    {
      "cell_type": "code",
      "source": [],
      "metadata": {
        "id": "e6tfc7XpKVNS"
      },
      "execution_count": null,
      "outputs": []
    },
    {
      "cell_type": "code",
      "source": [],
      "metadata": {
        "id": "NEb-NHYmKVQk"
      },
      "execution_count": null,
      "outputs": []
    },
    {
      "cell_type": "code",
      "source": [],
      "metadata": {
        "id": "6HIBS5lrKVTd"
      },
      "execution_count": null,
      "outputs": []
    },
    {
      "cell_type": "code",
      "source": [],
      "metadata": {
        "id": "1fQOmwSsKVWL"
      },
      "execution_count": null,
      "outputs": []
    },
    {
      "cell_type": "code",
      "source": [],
      "metadata": {
        "id": "PlyFq2ZAKVZD"
      },
      "execution_count": null,
      "outputs": []
    },
    {
      "cell_type": "code",
      "source": [],
      "metadata": {
        "id": "stWNaRgHKVcD"
      },
      "execution_count": null,
      "outputs": []
    },
    {
      "cell_type": "code",
      "source": [],
      "metadata": {
        "id": "U8oqzF3EKVe0"
      },
      "execution_count": null,
      "outputs": []
    },
    {
      "cell_type": "code",
      "source": [],
      "metadata": {
        "id": "bG2Cvu7IKVhj"
      },
      "execution_count": null,
      "outputs": []
    },
    {
      "cell_type": "code",
      "source": [],
      "metadata": {
        "id": "hKJkYa-JKVkL"
      },
      "execution_count": null,
      "outputs": []
    },
    {
      "cell_type": "code",
      "source": [],
      "metadata": {
        "id": "6ED94NnBKVnE"
      },
      "execution_count": null,
      "outputs": []
    },
    {
      "cell_type": "code",
      "source": [],
      "metadata": {
        "id": "vH2UWbm6KVp1"
      },
      "execution_count": null,
      "outputs": []
    },
    {
      "cell_type": "code",
      "source": [],
      "metadata": {
        "id": "Gj_gy1cMKVss"
      },
      "execution_count": null,
      "outputs": []
    },
    {
      "cell_type": "code",
      "source": [],
      "metadata": {
        "id": "gRl4nEIWKVw7"
      },
      "execution_count": null,
      "outputs": []
    }
  ]
}